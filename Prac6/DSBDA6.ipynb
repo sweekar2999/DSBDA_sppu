{
 "cells": [
  {
   "cell_type": "code",
   "execution_count": 1,
   "id": "fd9518d2-c227-444d-8895-938f234aae24",
   "metadata": {},
   "outputs": [],
   "source": [
    "import pandas as pd\n",
    "from sklearn import metrics\n",
    "from sklearn.model_selection import train_test_split\n",
    "from sklearn.naive_bayes import GaussianNB\n",
    "\n",
    "\n"
   ]
  },
  {
   "cell_type": "code",
   "execution_count": 2,
   "id": "d06787f6-0b48-4c98-86b3-6ed614b4c494",
   "metadata": {},
   "outputs": [],
   "source": [
    "dataset = pd.read_csv(\"IRIS.csv\")"
   ]
  },
  {
   "cell_type": "code",
   "execution_count": 3,
   "id": "1ced6a9b-9c1f-450d-81bc-b6f4e24607a8",
   "metadata": {},
   "outputs": [
    {
     "name": "stdout",
     "output_type": "stream",
     "text": [
      "actual =  Iris-versicolor\n"
     ]
    }
   ],
   "source": [
    "x=dataset.iloc[:,:4]\n",
    "y=dataset.iloc[:,4]\n",
    "train_a,test_a,train_b,test_b = train_test_split(x,y,test_size=0.2,random_state=42)\n",
    "model = GaussianNB()\n",
    "model.fit(train_a.values,train_b.values)\n",
    "predict = model.predict(test_a.values)\n",
    "print(\"actual = \",test_b.values[0])"
   ]
  },
  {
   "cell_type": "code",
   "execution_count": 4,
   "id": "6703f14c-8f7b-4855-99a3-c9a29bc01d10",
   "metadata": {},
   "outputs": [
    {
     "name": "stdout",
     "output_type": "stream",
     "text": [
      "predicted =  Iris-versicolor\n",
      "100.0 %\n",
      "[[10  0  0]\n",
      " [ 0  9  0]\n",
      " [ 0  0 11]]\n",
      "                 precision    recall  f1-score   support\n",
      "\n",
      "    Iris-setosa       1.00      1.00      1.00        10\n",
      "Iris-versicolor       1.00      1.00      1.00         9\n",
      " Iris-virginica       1.00      1.00      1.00        11\n",
      "\n",
      "       accuracy                           1.00        30\n",
      "      macro avg       1.00      1.00      1.00        30\n",
      "   weighted avg       1.00      1.00      1.00        30\n",
      "\n"
     ]
    }
   ],
   "source": [
    "print(\"predicted = \",predict[0])\n",
    "print(metrics.accuracy_score(predict,test_b.values)*100,\"%\")\n",
    "print(metrics.confusion_matrix(test_b,predict))\n",
    "print(metrics.classification_report(test_b,predict))"
   ]
  },
  {
   "cell_type": "code",
   "execution_count": null,
   "id": "ac6993bb-6010-4889-9580-759fb83b58e5",
   "metadata": {},
   "outputs": [],
   "source": []
  }
 ],
 "metadata": {
  "kernelspec": {
   "display_name": "Python 3 (ipykernel)",
   "language": "python",
   "name": "python3"
  },
  "language_info": {
   "codemirror_mode": {
    "name": "ipython",
    "version": 3
   },
   "file_extension": ".py",
   "mimetype": "text/x-python",
   "name": "python",
   "nbconvert_exporter": "python",
   "pygments_lexer": "ipython3",
   "version": "3.11.2"
  }
 },
 "nbformat": 4,
 "nbformat_minor": 5
}
