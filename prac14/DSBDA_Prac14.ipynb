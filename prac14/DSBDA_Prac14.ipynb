{
 "cells": [
  {
   "cell_type": "code",
   "execution_count": 9,
   "id": "0d2d9689-c653-44ff-a0d1-74322935db59",
   "metadata": {},
   "outputs": [],
   "source": [
    "import pandas as pd\n",
    "from sklearn.feature_extraction.text import TfidfVectorizer\n",
    "from sklearn.metrics.pairwise import linear_kernel\n"
   ]
  },
  {
   "cell_type": "code",
   "execution_count": 3,
   "id": "7142303d-eea0-450f-a078-57fcc5e92542",
   "metadata": {},
   "outputs": [],
   "source": [
    "movies = pd.read_csv('movie_dataset.csv')\n"
   ]
  },
  {
   "cell_type": "code",
   "execution_count": 11,
   "id": "8829efc7-c6b3-4db6-9500-0dd24f59b9b3",
   "metadata": {},
   "outputs": [],
   "source": [
    "movies['overview'] = movies['overview'].fillna('') \n"
   ]
  },
  {
   "cell_type": "code",
   "execution_count": 13,
   "id": "c862bbe3-7812-411c-851b-22d8668af494",
   "metadata": {},
   "outputs": [],
   "source": [
    "tfidf = TfidfVectorizer(stop_words='english')\n",
    "tfidf_matrix = tfidf.fit_transform(movies['overview'])\n"
   ]
  },
  {
   "cell_type": "code",
   "execution_count": 14,
   "id": "8e7b0ecb-f14b-4707-b892-df3b5a041de6",
   "metadata": {},
   "outputs": [],
   "source": [
    "cosine_sim = linear_kernel(tfidf_matrix, tfidf_matrix)"
   ]
  },
  {
   "cell_type": "code",
   "execution_count": 19,
   "id": "2f7ca9fd-2aba-499f-9700-aff1616889d9",
   "metadata": {},
   "outputs": [],
   "source": [
    "def get_recommendations(title, cosine_sim=cosine_sim, num_recommendations=10):\n",
    "    idx = movies.index[movies['title'] == title].tolist()[0]\n",
    "    sim_scores = list(enumerate(cosine_sim[idx]))\n",
    "    sim_scores = sorted(sim_scores, key=lambda x: x[1], reverse=True)[1:num_recommendations+1]\n",
    "    movie_indices = [i[0] for i in sim_scores]\n",
    "    return movies.iloc[movie_indices]['title']"
   ]
  },
  {
   "cell_type": "code",
   "execution_count": 21,
   "id": "1484a50e-35c6-4862-9f61-e6540f5f07f9",
   "metadata": {},
   "outputs": [
    {
     "name": "stdout",
     "output_type": "stream",
     "text": [
      "Recommendations for Superman Returns\n",
      "2433    Superman IV: The Quest for Peace\n",
      "870                          Superman II\n",
      "813                             Superman\n",
      "1296                        Superman III\n",
      "2643                          The Return\n",
      "2851               Max Keeble's Big Move\n",
      "2673                 My Bloody Valentine\n",
      "1704                       The Big Short\n",
      "1289                            The Crow\n",
      "1315                           Rock Star\n",
      "Name: title, dtype: object\n"
     ]
    }
   ],
   "source": [
    "movie_title = \"Superman Returns\"\n",
    "recommendations = get_recommendations(movie_title)\n",
    "print(\"Recommendations for\", movie_title)\n",
    "print(recommendations)"
   ]
  },
  {
   "cell_type": "code",
   "execution_count": null,
   "id": "5f429b1b-0ed9-44ff-9b41-2fa34e4f98b6",
   "metadata": {},
   "outputs": [],
   "source": []
  }
 ],
 "metadata": {
  "kernelspec": {
   "display_name": "Python 3 (ipykernel)",
   "language": "python",
   "name": "python3"
  },
  "language_info": {
   "codemirror_mode": {
    "name": "ipython",
    "version": 3
   },
   "file_extension": ".py",
   "mimetype": "text/x-python",
   "name": "python",
   "nbconvert_exporter": "python",
   "pygments_lexer": "ipython3",
   "version": "3.12.1"
  }
 },
 "nbformat": 4,
 "nbformat_minor": 5
}
