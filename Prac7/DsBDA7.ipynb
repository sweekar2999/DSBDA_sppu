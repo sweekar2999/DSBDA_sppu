{
 "cells": [
  {
   "cell_type": "code",
   "execution_count": 1,
   "id": "95f068e3-c0e0-43ee-8402-fccfec7bc0dc",
   "metadata": {},
   "outputs": [],
   "source": [
    "import nltk\n",
    "from nltk.tokenize import word_tokenize, sent_tokenize\n",
    "from nltk.corpus import stopwords\n",
    "from nltk.stem import PorterStemmer, WordNetLemmatizer\n",
    "from nltk import pos_tag"
   ]
  },
  {
   "cell_type": "code",
   "execution_count": 2,
   "id": "d0efb061-98aa-4084-9bf2-f1a9ba1349a8",
   "metadata": {},
   "outputs": [],
   "source": [
    "document = \"Hello Everyone. Welcome to the Python Programming\""
   ]
  },
  {
   "cell_type": "code",
   "execution_count": 3,
   "id": "3b0b9a9d-65d3-41fb-968d-ae14e72acfa9",
   "metadata": {},
   "outputs": [],
   "source": [
    "sentences = sent_tokenize(document)"
   ]
  },
  {
   "cell_type": "code",
   "execution_count": 4,
   "id": "1ff84d43-ec99-4034-99c7-60a95b9efe42",
   "metadata": {},
   "outputs": [
    {
     "name": "stdout",
     "output_type": "stream",
     "text": [
      "Original Document:\n",
      "Hello Everyone. Welcome to the Python Programming\n",
      "\n",
      "Sentence Tokenization:\n",
      "['Hello Everyone.', 'Welcome to the Python Programming']\n"
     ]
    }
   ],
   "source": [
    "print(\"Original Document:\")\n",
    "print(document)\n",
    "print(\"\\nSentence Tokenization:\")\n",
    "print(sentences)"
   ]
  },
  {
   "cell_type": "code",
   "execution_count": 5,
   "id": "e9befc2d-3c92-4d01-a27e-3bd63a233115",
   "metadata": {},
   "outputs": [],
   "source": [
    "tokens = [word_tokenize(sentence) for sentence in sentences]"
   ]
  },
  {
   "cell_type": "code",
   "execution_count": 6,
   "id": "d2c378f7-dc15-4ba7-b2ae-d4c59e6614f3",
   "metadata": {},
   "outputs": [
    {
     "name": "stdout",
     "output_type": "stream",
     "text": [
      "[['Hello', 'Everyone', '.'], ['Welcome', 'to', 'the', 'Python', 'Programming']]\n"
     ]
    }
   ],
   "source": [
    "print(tokens)"
   ]
  },
  {
   "cell_type": "code",
   "execution_count": 7,
   "id": "b47ed67a-d7ce-4227-a26d-37a6a1f09a2d",
   "metadata": {},
   "outputs": [],
   "source": [
    "pos_tags = [pos_tag(token) for token in tokens]"
   ]
  },
  {
   "cell_type": "code",
   "execution_count": 8,
   "id": "aac6088a-d1f4-4e21-bd32-82b08e3efe41",
   "metadata": {},
   "outputs": [
    {
     "name": "stdout",
     "output_type": "stream",
     "text": [
      "[[('Hello', 'NNP'), ('Everyone', 'NNP'), ('.', '.')], [('Welcome', 'VB'), ('to', 'TO'), ('the', 'DT'), ('Python', 'NNP'), ('Programming', 'NNP')]]\n"
     ]
    }
   ],
   "source": [
    "print(pos_tags)"
   ]
  },
  {
   "cell_type": "code",
   "execution_count": 9,
   "id": "daaee84c-2bb3-458f-a696-9be9064e293e",
   "metadata": {},
   "outputs": [],
   "source": [
    "stop_words = set(stopwords.words('english'))\n",
    "filtered_tokens = [[word for word in sentence if word.lower() not in stop_words] for sentence in tokens]"
   ]
  },
  {
   "cell_type": "code",
   "execution_count": 10,
   "id": "4b8ebe7a-9cfd-47ed-8649-30f928a93a3f",
   "metadata": {},
   "outputs": [
    {
     "name": "stdout",
     "output_type": "stream",
     "text": [
      "Hello Everyone. Welcome to the Python Programming\n",
      "[['Hello', 'Everyone', '.'], ['Welcome', 'Python', 'Programming']]\n"
     ]
    }
   ],
   "source": [
    "print(document)\n",
    "print(filtered_tokens)"
   ]
  },
  {
   "cell_type": "code",
   "execution_count": 11,
   "id": "6cc4e34c-2b24-4cc3-b223-02a86c76e600",
   "metadata": {},
   "outputs": [],
   "source": [
    "stemmer = PorterStemmer()\n",
    "stemmed_tokens = [[stemmer.stem(word) for word in sentence] for sentence in tokens]"
   ]
  },
  {
   "cell_type": "code",
   "execution_count": 12,
   "id": "a5aaecfd-3fa5-494b-b47a-f0e6fb45002c",
   "metadata": {},
   "outputs": [
    {
     "name": "stdout",
     "output_type": "stream",
     "text": [
      "Hello Everyone. Welcome to the Python Programming\n",
      "[['hello', 'everyon', '.'], ['welcom', 'to', 'the', 'python', 'program']]\n"
     ]
    }
   ],
   "source": [
    "print(document)\n",
    "print(stemmed_tokens)"
   ]
  },
  {
   "cell_type": "code",
   "execution_count": 13,
   "id": "d698f8c4-ecfd-4f2b-924a-85e2e60d7030",
   "metadata": {},
   "outputs": [],
   "source": [
    "lemmatizer = WordNetLemmatizer()\n",
    "lemmatized_tokens = [[lemmatizer.lemmatize(word) for word in sentence] for sentence in tokens] "
   ]
  },
  {
   "cell_type": "code",
   "execution_count": 14,
   "id": "e75f45cb-f9d8-4c59-a22f-186303320e1d",
   "metadata": {},
   "outputs": [
    {
     "name": "stdout",
     "output_type": "stream",
     "text": [
      "Hello Everyone. Welcome to the Python Programming\n",
      "[['Hello', 'Everyone', '.'], ['Welcome', 'to', 'the', 'Python', 'Programming']]\n"
     ]
    }
   ],
   "source": [
    "print(document)\n",
    "print(lemmatized_tokens)"
   ]
  },
  {
   "cell_type": "code",
   "execution_count": 15,
   "id": "f92e81b2-671f-482f-a5e6-6a9be5a253c7",
   "metadata": {},
   "outputs": [],
   "source": [
    "from collections import Counter\n",
    "import math"
   ]
  },
  {
   "cell_type": "code",
   "execution_count": 16,
   "id": "4873d154-1deb-4de9-b157-450a17e9ab60",
   "metadata": {},
   "outputs": [],
   "source": [
    "corpus = [\n",
    "    'The quick brown fox jumps over the lazy dog',\n",
    "    'The brown fox is quick',\n",
    "    'The lazy dog is sleeping'\n",
    "]"
   ]
  },
  {
   "cell_type": "code",
   "execution_count": 17,
   "id": "e596f186-c1df-4e63-aaff-a7415c1f7ba4",
   "metadata": {},
   "outputs": [],
   "source": [
    "def tf_idf(corpus):\n",
    "    tokenized_docs = [doc.lower().split() for doc in corpus]\n",
    "    tf_docs = [Counter(tokens) for tokens in tokenized_docs]\n",
    "    n_docs = len(corpus)\n",
    "    idf = {token: math.log(n_docs / sum(1 for doc in tokenized_docs if token in doc)) for doc in tokenized_docs for token in set(doc)}\n",
    "    return [{token: tf_docs[i][token] * idf[token] for token in tf_docs[i]} for i in range(n_docs)]"
   ]
  },
  {
   "cell_type": "code",
   "execution_count": 18,
   "id": "72c602e5-da9c-4829-aefa-1f112253359b",
   "metadata": {},
   "outputs": [],
   "source": [
    "tfidf_docs = tf_idf(corpus)"
   ]
  },
  {
   "cell_type": "code",
   "execution_count": 19,
   "id": "bd6dd91f-1d4d-4273-b255-f267f6f6fe1f",
   "metadata": {},
   "outputs": [
    {
     "name": "stdout",
     "output_type": "stream",
     "text": [
      "Document 1: {'the': 0.0, 'quick': 0.4054651081081644, 'brown': 0.4054651081081644, 'fox': 0.4054651081081644, 'jumps': 1.0986122886681098, 'over': 1.0986122886681098, 'lazy': 0.4054651081081644, 'dog': 0.4054651081081644}\n",
      "Document 2: {'the': 0.0, 'brown': 0.4054651081081644, 'fox': 0.4054651081081644, 'is': 0.4054651081081644, 'quick': 0.4054651081081644}\n",
      "Document 3: {'the': 0.0, 'lazy': 0.4054651081081644, 'dog': 0.4054651081081644, 'is': 0.4054651081081644, 'sleeping': 1.0986122886681098}\n"
     ]
    }
   ],
   "source": [
    "for i, tfidf_doc in enumerate(tfidf_docs):\n",
    "    print(f\"Document {i+1}: {tfidf_doc}\")"
   ]
  },
  {
   "cell_type": "code",
   "execution_count": null,
   "id": "e244f988-e328-4dad-9acb-53c846b631dd",
   "metadata": {},
   "outputs": [],
   "source": []
  }
 ],
 "metadata": {
  "kernelspec": {
   "display_name": "Python 3 (ipykernel)",
   "language": "python",
   "name": "python3"
  },
  "language_info": {
   "codemirror_mode": {
    "name": "ipython",
    "version": 3
   },
   "file_extension": ".py",
   "mimetype": "text/x-python",
   "name": "python",
   "nbconvert_exporter": "python",
   "pygments_lexer": "ipython3",
   "version": "3.11.2"
  }
 },
 "nbformat": 4,
 "nbformat_minor": 5
}
